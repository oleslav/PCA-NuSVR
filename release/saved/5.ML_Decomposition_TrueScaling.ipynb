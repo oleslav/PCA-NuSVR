{
  "nbformat": 4,
  "nbformat_minor": 0,
  "metadata": {
    "colab": {
      "provenance": []
    },
    "kernelspec": {
      "name": "python3",
      "display_name": "Python 3"
    },
    "language_info": {
      "name": "python"
    }
  },
  "cells": [
    {
      "cell_type": "code",
      "source": [
        "import pandas as pd\n",
        "import numpy as np\n",
        "from scipy import stats\n",
        "from scipy.optimize import differential_evolution\n",
        "from sklearn.decomposition import PCA\n",
        "from sklearn.ensemble import HistGradientBoostingRegressor\n",
        "from sklearn.ensemble import GradientBoostingRegressor\n",
        "from sklearn.model_selection import train_test_split\n",
        "from sklearn.preprocessing import MaxAbsScaler, MinMaxScaler, Normalizer, PowerTransformer, RobustScaler, StandardScaler, PolynomialFeatures\n",
        "from sklearn.metrics import max_error, mean_absolute_error, mean_squared_error, mean_absolute_percentage_error, median_absolute_error, r2_score\n",
        "from sklearn.base import BaseEstimator, RegressorMixin\n",
        "from GRNN import GRNN, calculate_error_cost"
      ],
      "metadata": {
        "id": "rhgopFbU7jen"
      },
      "execution_count": 40,
      "outputs": []
    },
    {
      "cell_type": "code",
      "source": [
        "scaler_name = 'Task1_80_20_Z3_MaxAbsScalerXY'\n",
        "model_name = 'HistGradientBoostingRegressor'\n",
        "embedded_name = 'SGTM' # SGTM PCA KernelPCA IncrementalPCA FastICA\n",
        "score_name = 'R2'"
      ],
      "metadata": {
        "id": "v47S65eJUVQ8"
      },
      "execution_count": 41,
      "outputs": []
    },
    {
      "cell_type": "code",
      "source": [
        "# Load all data with pandas\n",
        "data = pd.read_csv('/content/Tunneling_Induced_building_damage_dataset.txt', sep='\\t')\n",
        "data = data.drop(labels = 'Tot No. Simulations', axis=1)\n",
        "# remove outliers\n",
        "data = data[(np.abs(stats.zscore(data.select_dtypes(exclude='object'))) < 3).all(axis=1)]\n",
        "data_columns = data.columns\n",
        "data.head()\n",
        "X = data.iloc[:,:15].to_numpy()\n",
        "# Y = data.iloc[:,15:]\n",
        "Y = data.iloc[:,[29, 30]]\n",
        "# Y = Y.iloc[:,1:-2]\n",
        "target_columns = Y.columns\n",
        "Y = Y.to_numpy()\n",
        "X_train, X_test, Y_train, Y_test = train_test_split(X, Y, test_size=0.2, random_state=42)\n",
        "# Transform data\n",
        "scaler_x = MaxAbsScaler()\n",
        "scaler_y = MaxAbsScaler()\n",
        "\n",
        "X_train = scaler_x.fit_transform(X_train)\n",
        "Y_train = scaler_y.fit_transform(Y_train)\n",
        "\n",
        "X_test = scaler_x.transform(X_test)\n",
        "# Y_test = scaler_y.transform(Y_test) # use inverse transform instead of"
      ],
      "metadata": {
        "id": "EO0HnPX87-5H"
      },
      "execution_count": 42,
      "outputs": []
    },
    {
      "cell_type": "code",
      "source": [
        "class ErrorResultsLogger(object):\n",
        "    def __init__(self):\n",
        "        self.results = {}\n",
        "\n",
        "    def relative_root_mean_squared_error(self, true, pred):\n",
        "        n = len(true) # update\n",
        "        num = np.sum(np.square(true - pred)) / n  # update\n",
        "        den = np.sum(np.square(pred))\n",
        "        squared_error = num / den\n",
        "        rrmse_loss = np.sqrt(squared_error)\n",
        "        return rrmse_loss\n",
        "\n",
        "    def calculate_errors(self, column_name, y_test, y_pred):\n",
        "        MaxError = max_error                         (y_test, y_pred)\n",
        "        MedError = median_absolute_error             (y_test, y_pred)\n",
        "        MAE = mean_absolute_error                    (y_test, y_pred)\n",
        "        MAPE = mean_absolute_percentage_error        (y_test, y_pred)\n",
        "        MSE = mean_squared_error                     (y_test, y_pred)\n",
        "        RMSE = mean_squared_error                    (y_test, y_pred, squared=False)\n",
        "        RRMSE = self.relative_root_mean_squared_error(y_test, y_pred)\n",
        "        R2 = r2_score                                (y_test, y_pred)\n",
        "        self.results.update({\n",
        "        f'{column_name}':{\n",
        "            'MaxError' : MaxError,\n",
        "            'MedError' : MedError,\n",
        "            'MAE' : MAE,\n",
        "            'MAPE' : MAPE,\n",
        "            'MSE' : MSE,\n",
        "            'RMSE' : RMSE,\n",
        "            'RRMSE' : RRMSE,\n",
        "            'R2' : R2\n",
        "        }})\n",
        "\n",
        "    def save_errors_results(self, file_name = '.xlsx'):\n",
        "      results = pd.DataFrame(self.results)\n",
        "      results.to_excel(file_name)"
      ],
      "metadata": {
        "id": "sqTq5sVh1-B5"
      },
      "execution_count": 43,
      "outputs": []
    },
    {
      "cell_type": "code",
      "source": [
        "results = {}\n",
        "y_train_predictions_1 = []\n",
        "y_test_predictions_1 = []\n",
        "test_logger = ErrorResultsLogger()\n",
        "\n",
        "for i, (y_train, y_test) in enumerate(zip(Y_train.T, Y_test.T)):\n",
        "    print(f'Training: {target_columns[i]}')\n",
        "    regressor = HistGradientBoostingRegressor(random_state=42)\n",
        "    regressor.fit(X_train, y_train)\n",
        "    # Predict\n",
        "    y_train_pred = regressor.predict(X_train)\n",
        "    y_test_pred = regressor.predict(X_test)\n",
        "    # Save results for errors\n",
        "    y_train_predictions_1.append(y_train_pred)\n",
        "    y_test_predictions_1.append(y_test_pred)\n",
        "    # Log erorrs\n",
        "    # test_logger.calculate_errors('train_'+target_columns[i], y_train, y_train_pred)\n",
        "    # test_logger.calculate_errors('test_'+target_columns[i], y_test, y_test_pred)\n",
        "\n",
        "# No need to transfrom train because it was already transformed\n",
        "y_train_pred = np.stack(y_train_predictions_1, axis=1)\n",
        "# use inverse transform on test for errors calculation\n",
        "y_test_pred_inverse = scaler_y.inverse_transform(np.stack(y_test_predictions_1, axis=1))\n",
        "\n",
        "for i, (y_train, y_train_pred, y_test, y_test_pred) in enumerate (\n",
        "    zip(Y_train.T, y_train_pred.T, Y_test.T, y_test_pred_inverse.T)):\n",
        "\n",
        "    test_logger.calculate_errors('train_'+target_columns[i], y_train, y_train_pred)\n",
        "    test_logger.calculate_errors('test_'+target_columns[i], y_test, y_test_pred)\n",
        "\n",
        "# Save xlsx\n",
        "test_logger.save_errors_results(f'{scaler_name}_{model_name}_{score_name}.xlsx')"
      ],
      "metadata": {
        "colab": {
          "base_uri": "https://localhost:8080/"
        },
        "id": "d435LpQJP8M_",
        "outputId": "cf5a8035-e4c4-4b99-c8a9-7d4a171176de"
      },
      "execution_count": 44,
      "outputs": [
        {
          "output_type": "stream",
          "name": "stdout",
          "text": [
            "Training: Local Avg.\n",
            "Training: Global Avg.\n"
          ]
        }
      ]
    },
    {
      "cell_type": "code",
      "source": [
        "from sklearn.decomposition import PCA, FastICA, IncrementalPCA, KernelPCA, TruncatedSVD\n",
        "from gtm import MultiLabelGTM\n",
        "\n",
        "train_y_regressor = np.stack(y_train_predictions_1, axis=1)\n",
        "test_y_regressor = np.stack(y_test_predictions_1, axis=1)\n",
        "\n",
        "train_decomposition_input = np.concatenate((X_train, train_y_regressor), axis=1)\n",
        "test_decomposition_input = np.concatenate((X_test, test_y_regressor), axis=1)\n",
        "\n",
        "if embedded_name == 'PCA':\n",
        "    pca = PCA()\n",
        "    X_train_new = pca.fit_transform(train_decomposition_input)\n",
        "    X_test_new = pca.transform(test_decomposition_input)\n",
        "\n",
        "elif embedded_name == 'KernelPCA':\n",
        "    pca = KernelPCA(kernel = 'poly')\n",
        "    X_train_new = pca.fit_transform(train_decomposition_input)\n",
        "    X_test_new = pca.transform(test_decomposition_input)\n",
        "\n",
        "elif embedded_name == 'FastICA':\n",
        "    pca = FastICA()\n",
        "    X_train_new = pca.fit_transform(train_decomposition_input)\n",
        "    X_test_new = pca.transform(test_decomposition_input)\n",
        "\n",
        "elif embedded_name == 'IncrementalPCA':\n",
        "    pca = IncrementalPCA()\n",
        "    X_train_new = pca.fit_transform(train_decomposition_input)\n",
        "    X_test_new = pca.transform(test_decomposition_input)\n",
        "\n",
        "elif embedded_name == 'TruncatedSVD':\n",
        "    pca = TruncatedSVD()\n",
        "    X_train_new = pca.fit_transform(train_decomposition_input)\n",
        "    X_test_new = pca.transform(test_decomposition_input)\n",
        "\n",
        "elif embedded_name == 'SGTM':\n",
        "    gtm = MultiLabelGTM(center_of_mass = True)\n",
        "    gtm.fit(train_decomposition_input, train_decomposition_input)\n",
        "    X_train_new = gtm.predict(train_decomposition_input)\n",
        "    X_test_new = gtm.predict(test_decomposition_input)"
      ],
      "metadata": {
        "id": "BIcKvKmF2KiP",
        "colab": {
          "base_uri": "https://localhost:8080/"
        },
        "outputId": "b3e32b5d-e612-4486-9650-63862ce66a7e"
      },
      "execution_count": 45,
      "outputs": [
        {
          "output_type": "stream",
          "name": "stdout",
          "text": [
            "17\n",
            "Step: 1\n",
            "Step: 2\n",
            "Step: 3\n",
            "Step: 4\n",
            "Step: 5\n",
            "Step: 6\n",
            "Step: 7\n",
            "Step: 8\n",
            "Step: 9\n",
            "Step: 10\n",
            "Step: 11\n",
            "Step: 12\n",
            "Step: 13\n",
            "Step: 14\n",
            "Step: 15\n",
            "Step: 16\n",
            "Step: 17\n",
            "--- 0.029486894607543945 seconds ---\n"
          ]
        }
      ]
    },
    {
      "cell_type": "code",
      "source": [
        "# from lazypredict.Supervised import LazyRegressor\n",
        "from sklearn import datasets\n",
        "from sklearn.utils import shuffle\n",
        "import numpy as np\n",
        "\n",
        "results = {}\n",
        "y_train_predictions_2 = []\n",
        "y_test_predictions_2 = []\n",
        "test_logger = ErrorResultsLogger()\n",
        "\n",
        "# poly = PolynomialFeatures(2)\n",
        "# X_train_new = poly.fit_transform(X_train_new) # [:,:10]\n",
        "# X_test_new = poly.transform(X_test_new) # [:,:10]\n",
        "\n",
        "X_train = X_train_new\n",
        "X_test = X_test_new\n",
        "\n",
        "for i, (y_train, y_test) in enumerate(zip(Y_train[:].T, Y_test[:].T)):\n",
        "    print(f'Training: {target_columns[i]}')\n",
        "    regressor = HistGradientBoostingRegressor(random_state=42)\n",
        "    regressor.fit(X_train, y_train)\n",
        "    # Predict\n",
        "    y_train_pred = regressor.predict(X_train)\n",
        "    y_test_pred = regressor.predict(X_test)\n",
        "    # Save results\n",
        "    y_train_predictions_2.append(y_train_pred)\n",
        "    y_test_predictions_2.append(y_test_pred)\n",
        "    # Log erorrs\n",
        "    # test_logger.calculate_errors('train_' + target_columns[i], y_train, y_train_pred)\n",
        "    # test_logger.calculate_errors('test_' + target_columns[i], y_test, y_test_pred)\n",
        "\n",
        "# No need to transfrom train because it was already transformed\n",
        "y_train_pred = np.stack(y_train_predictions_2, axis=1)\n",
        "# use inverse transform on test for errors calculation\n",
        "y_test_pred_inverse = scaler_y.inverse_transform(np.stack(y_test_predictions_2, axis=1))\n",
        "\n",
        "for i, (y_train, y_train_pred, y_test, y_test_pred) in enumerate (\n",
        "    zip(Y_train.T, y_train_pred.T, Y_test.T, y_test_pred_inverse.T)):\n",
        "    test_logger.calculate_errors('train_'+target_columns[i], y_train, y_train_pred)\n",
        "    test_logger.calculate_errors('test_'+target_columns[i], y_test, y_test_pred)\n",
        "\n",
        "# Save xlsx\n",
        "test_logger.save_errors_results(f'{scaler_name}_{model_name}_{embedded_name}_{score_name}.xlsx')\n",
        "\n",
        "\n",
        "# for i, (y_train, y_test) in enumerate(zip(Y_train[:].T, Y_test[:].T)):\n",
        "#   print(f'Training: {target_columns[i]}')\n",
        "#   reg = LazyRegressor(verbose=0, ignore_warnings=False, custom_metric=None)\n",
        "#   models,predictions = reg.fit(X_train, X_test, y_train, y_test)\n",
        "#   print(models)\n",
        "#   print()"
      ],
      "metadata": {
        "colab": {
          "base_uri": "https://localhost:8080/"
        },
        "id": "5RZFZnaZLkYM",
        "outputId": "830da670-67a3-4032-976c-40ddbfd01462"
      },
      "execution_count": 46,
      "outputs": [
        {
          "output_type": "stream",
          "name": "stdout",
          "text": [
            "Training: Local Avg.\n",
            "Training: Global Avg.\n"
          ]
        }
      ]
    },
    {
      "cell_type": "code",
      "source": [
        "import numpy as np\n",
        "from sklearn.model_selection import KFold\n",
        "\n",
        "# X y input\n",
        "kf = KFold(n_splits=10, shuffle=True, random_state=42)\n",
        "print(kf)\n",
        "for i, (train_index, test_index) in enumerate(kf.split(X)):\n",
        "    print(f\"Fold {i+1}:\")\n",
        "    print(f\"  Train: index={len(train_index)}\")\n",
        "    print(f\"  Test:  index={len(test_index)}\")"
      ],
      "metadata": {
        "colab": {
          "base_uri": "https://localhost:8080/"
        },
        "id": "OoYig6czrU1V",
        "outputId": "dd222571-d3cc-449a-fcab-aea9053e347f"
      },
      "execution_count": 47,
      "outputs": [
        {
          "output_type": "stream",
          "name": "stdout",
          "text": [
            "KFold(n_splits=10, random_state=42, shuffle=True)\n",
            "Fold 1:\n",
            "  Train: index=800\n",
            "  Test:  index=89\n",
            "Fold 2:\n",
            "  Train: index=800\n",
            "  Test:  index=89\n",
            "Fold 3:\n",
            "  Train: index=800\n",
            "  Test:  index=89\n",
            "Fold 4:\n",
            "  Train: index=800\n",
            "  Test:  index=89\n",
            "Fold 5:\n",
            "  Train: index=800\n",
            "  Test:  index=89\n",
            "Fold 6:\n",
            "  Train: index=800\n",
            "  Test:  index=89\n",
            "Fold 7:\n",
            "  Train: index=800\n",
            "  Test:  index=89\n",
            "Fold 8:\n",
            "  Train: index=800\n",
            "  Test:  index=89\n",
            "Fold 9:\n",
            "  Train: index=800\n",
            "  Test:  index=89\n",
            "Fold 10:\n",
            "  Train: index=801\n",
            "  Test:  index=88\n"
          ]
        }
      ]
    }
  ]
}