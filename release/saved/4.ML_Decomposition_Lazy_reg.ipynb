{
  "nbformat": 4,
  "nbformat_minor": 0,
  "metadata": {
    "colab": {
      "provenance": []
    },
    "kernelspec": {
      "name": "python3",
      "display_name": "Python 3"
    },
    "language_info": {
      "name": "python"
    }
  },
  "cells": [
    {
      "cell_type": "code",
      "source": [
        "import time\n",
        "import pandas as pd\n",
        "import numpy as np\n",
        "from scipy import stats\n",
        "from scipy.optimize import differential_evolution\n",
        "from sklearn.decomposition import PCA\n",
        "from sklearn.ensemble import HistGradientBoostingRegressor\n",
        "from sklearn.ensemble import GradientBoostingRegressor\n",
        "from sklearn.model_selection import train_test_split\n",
        "from sklearn.preprocessing import MaxAbsScaler, MinMaxScaler, Normalizer, PowerTransformer, RobustScaler, StandardScaler, PolynomialFeatures\n",
        "from sklearn.metrics import max_error, mean_absolute_error, mean_squared_error, mean_absolute_percentage_error, median_absolute_error, r2_score\n",
        "from sklearn.base import BaseEstimator, RegressorMixin\n",
        "from GRNN import GRNN, calculate_error_cost"
      ],
      "metadata": {
        "id": "rhgopFbU7jen"
      },
      "execution_count": 29,
      "outputs": []
    },
    {
      "cell_type": "code",
      "source": [
        "def relative_root_mean_squared_error(true, pred):\n",
        "    n = len(true) # update\n",
        "    num = np.sum(np.square(true - pred)) / n  # update\n",
        "    den = np.sum(np.square(pred))\n",
        "    squared_error = num / den\n",
        "    rrmse_loss = np.sqrt(squared_error)\n",
        "    return rrmse_loss"
      ],
      "metadata": {
        "id": "RXN61HUIoFnF"
      },
      "execution_count": 41,
      "outputs": []
    },
    {
      "cell_type": "code",
      "source": [
        "# Load all data with pandas\n",
        "data = pd.read_csv('/content/Tunneling_Induced_building_damage_dataset.txt', sep='\\t')\n",
        "data = data.drop(labels = 'Tot No. Simulations', axis=1)\n",
        "# remove outliers\n",
        "data = data[(np.abs(stats.zscore(data.select_dtypes(exclude='object'))) < 3).all(axis=1)]\n",
        "data_columns = data.columns\n",
        "data.head()\n",
        "X = data.iloc[:,:15].to_numpy()\n",
        "# Y = data.iloc[:,15:]\n",
        "Y = data.iloc[:,[29, 30]]\n",
        "# Y = Y.iloc[:,1:-2]\n",
        "target_columns = Y.columns\n",
        "Y = Y.to_numpy()\n",
        "X_train, X_test, Y_train, Y_test = train_test_split(X, Y, test_size=0.2, random_state=42)\n",
        "# Transform data\n",
        "scaler_x = MaxAbsScaler()\n",
        "scaler_y = MaxAbsScaler()\n",
        "\n",
        "X_train = scaler_x.fit_transform(X_train)\n",
        "Y_train = scaler_y.fit_transform(Y_train)\n",
        "\n",
        "X_test = scaler_x.transform(X_test)\n",
        "Y_test = scaler_y.transform(Y_test)"
      ],
      "metadata": {
        "id": "EO0HnPX87-5H"
      },
      "execution_count": 30,
      "outputs": []
    },
    {
      "cell_type": "code",
      "source": [
        "scaler_name = 'Task1_80_20_Z3_MaxAbsScalerXY'\n",
        "model_name = 'HistGradientBoostingRegressor'\n",
        "embedded_name = 'FastICA' # SGTM PCA KernelPCA IncrementalPCA FastICA\n",
        "score_name = 'R2'"
      ],
      "metadata": {
        "id": "v47S65eJUVQ8"
      },
      "execution_count": 31,
      "outputs": []
    },
    {
      "cell_type": "code",
      "source": [
        "results = {}\n",
        "y_train_predictions_1 = []\n",
        "y_test_predictions_1 = []\n",
        "grnn_sigmas_1 = []\n",
        "for i, (y_train, y_test) in enumerate(zip(Y_train[:].T, Y_test[:].T)):\n",
        "    print(f'Training: {target_columns[i]}')\n",
        "    regressor = HistGradientBoostingRegressor(random_state=42)\n",
        "    # gbr = GradientBoostingRegressor(random_state=42)\n",
        "    regressor.fit(X_train, y_train)\n",
        "    # Predict\n",
        "    y_train_pred = regressor.predict(X_train)\n",
        "    y_test_pred = regressor.predict(X_test)\n",
        "    # Save results\n",
        "    y_train_predictions_1.append(y_train_pred)\n",
        "    y_test_predictions_1.append(y_test_pred)\n",
        "    # Save xlsx\n",
        "    MaxError = max_error                    (y_test, y_test_pred)\n",
        "    MedError = median_absolute_error        (y_test, y_test_pred)\n",
        "    MAE = mean_absolute_error               (y_test, y_test_pred)\n",
        "    MAPE = mean_absolute_percentage_error   (y_test, y_test_pred)\n",
        "    MSE = mean_squared_error                (y_test, y_test_pred)\n",
        "    RMSE = mean_squared_error               (y_test, y_test_pred, squared=False)\n",
        "    RRMSE = relative_root_mean_squared_error(y_test, y_test_pred)\n",
        "    R2 = r2_score                           (y_test, y_test_pred)\n",
        "    results.update({\n",
        "    f'{target_columns[i]}':\n",
        "        {\n",
        "            'MaxError' : MaxError,\n",
        "            'MedError' : MedError,\n",
        "            'MAE' : MAE,\n",
        "            'MAPE' : MAPE,\n",
        "            'MSE' : MSE,\n",
        "            'RMSE' : RMSE,\n",
        "            'RRMSE' : RRMSE,\n",
        "            'R2' : R2\n",
        "        }\n",
        "    })\n",
        "\n",
        "exp_result = pd.DataFrame(results)\n",
        "exp_result.to_excel(f'{scaler_name}_{model_name}_{score_name}.xlsx')"
      ],
      "metadata": {
        "colab": {
          "base_uri": "https://localhost:8080/"
        },
        "id": "d435LpQJP8M_",
        "outputId": "9232b921-a425-430b-a574-db83387e734e"
      },
      "execution_count": 32,
      "outputs": [
        {
          "output_type": "stream",
          "name": "stdout",
          "text": [
            "Training: Local Avg.\n",
            "Training: Global Avg.\n"
          ]
        }
      ]
    },
    {
      "cell_type": "code",
      "source": [
        "# train_y_regressor = np.stack(y_train_predictions_1, axis=1)\n",
        "# test_y_regressor = np.stack(y_test_predictions_1, axis=1)\n",
        "\n",
        "# train_pca_input = np.concatenate((X_train, train_y_regressor), axis=1)\n",
        "# test_pca_input = np.concatenate((X_test, test_y_regressor), axis=1)\n",
        "\n",
        "# print(train_y_regressor.shape)\n",
        "# print(X_train.shape)\n",
        "# print(train_pca_input.shape)\n",
        "\n",
        "# pca = PCA()\n",
        "# PCA_train = pca.fit_transform(train_pca_input)\n",
        "# PCA_test = pca.transform(test_pca_input)\n",
        "\n",
        "# #explained_variance = pca.explained_variance_ratio_\n",
        "# print(PCA_train.shape)\n",
        "\n",
        "from sklearn.decomposition import PCA, FastICA, IncrementalPCA, KernelPCA\n",
        "from gtm import MultiLabelGTM\n",
        "\n",
        "train_y_regressor = np.stack(y_train_predictions_1, axis=1)\n",
        "test_y_regressor = np.stack(y_test_predictions_1, axis=1)\n",
        "\n",
        "train_decomposition_input = np.concatenate((X_train, train_y_regressor), axis=1)\n",
        "test_decomposition_input = np.concatenate((X_test, test_y_regressor), axis=1)\n",
        "\n",
        "if embedded_name == 'PCA':\n",
        "    pca = PCA()\n",
        "    X_train_new = pca.fit_transform(train_decomposition_input)\n",
        "    X_test_new = pca.transform(test_decomposition_input)\n",
        "\n",
        "elif embedded_name == 'KernelPCA':\n",
        "    pca = KernelPCA(kernel = 'poly')\n",
        "    X_train_new = pca.fit_transform(train_decomposition_input)\n",
        "    X_test_new = pca.transform(test_decomposition_input)\n",
        "\n",
        "elif embedded_name == 'FastICA':\n",
        "    pca = FastICA()\n",
        "    X_train_new = pca.fit_transform(train_decomposition_input)\n",
        "    X_test_new = pca.transform(test_decomposition_input)\n",
        "\n",
        "elif embedded_name == 'IncrementalPCA':\n",
        "    pca = IncrementalPCA()\n",
        "    X_train_new = pca.fit_transform(train_decomposition_input)\n",
        "    X_test_new = pca.transform(test_decomposition_input)\n",
        "\n",
        "elif embedded_name == 'SGTM':\n",
        "    gtm = MultiLabelGTM(center_of_mass = True)\n",
        "    gtm.fit(train_decomposition_input, train_decomposition_input)\n",
        "    X_train_new = gtm.predict(train_decomposition_input)\n",
        "    X_test_new = gtm.predict(test_decomposition_input)"
      ],
      "metadata": {
        "colab": {
          "base_uri": "https://localhost:8080/"
        },
        "id": "BIcKvKmF2KiP",
        "outputId": "79c4bf10-8001-41bb-ed56-f49af644ffa9"
      },
      "execution_count": 33,
      "outputs": [
        {
          "output_type": "stream",
          "name": "stderr",
          "text": [
            "/usr/local/lib/python3.10/dist-packages/sklearn/decomposition/_fastica.py:542: FutureWarning: Starting in v1.3, whiten='unit-variance' will be used by default.\n",
            "  warnings.warn(\n",
            "/usr/local/lib/python3.10/dist-packages/sklearn/decomposition/_fastica.py:123: ConvergenceWarning: FastICA did not converge. Consider increasing tolerance or the maximum number of iterations.\n",
            "  warnings.warn(\n"
          ]
        }
      ]
    },
    {
      "cell_type": "code",
      "source": [
        "# from lazypredict.Supervised import LazyRegressor\n",
        "from sklearn import datasets\n",
        "from sklearn.utils import shuffle\n",
        "import numpy as np\n",
        "\n",
        "results = {}\n",
        "predictions = []\n",
        "\n",
        "X_train = X_train_new\n",
        "X_test = X_test_new\n",
        "for i, (y_train, y_test) in enumerate(zip(Y_train[:].T, Y_test[:].T)):\n",
        "    print(f'Training: {target_columns[i]}')\n",
        "    regressor = HistGradientBoostingRegressor(random_state=42)\n",
        "    # regressor = GradientBoostingRegressor(random_state=42)\n",
        "    regressor.fit(X_train, y_train)\n",
        "    # Predict\n",
        "    y_test_pred = regressor.predict(X_test)\n",
        "    # Save results\n",
        "    predictions.append(y_test_pred)\n",
        "    # Save xlsx\n",
        "    MaxError = max_error                    (y_test, y_test_pred)\n",
        "    MedError = median_absolute_error        (y_test, y_test_pred)\n",
        "    MAE = mean_absolute_error               (y_test, y_test_pred)\n",
        "    MAPE = mean_absolute_percentage_error   (y_test, y_test_pred)\n",
        "    MSE = mean_squared_error                (y_test, y_test_pred)\n",
        "    RMSE = mean_squared_error               (y_test, y_test_pred, squared=False)\n",
        "    RRMSE = relative_root_mean_squared_error(y_test, y_test_pred)\n",
        "    R2 = r2_score                           (y_test, y_test_pred)\n",
        "    results.update({\n",
        "    f'{target_columns[i]}':\n",
        "        {\n",
        "            'MaxError' : MaxError,\n",
        "            'MedError' : MedError,\n",
        "            'MAE' : MAE,\n",
        "            'MAPE' : MAPE,\n",
        "            'MSE' : MSE,\n",
        "            'RMSE' : RMSE,\n",
        "            'RRMSE' : RRMSE,\n",
        "            'R2' : R2\n",
        "        }\n",
        "    })\n",
        "\n",
        "exp_result = pd.DataFrame(results)\n",
        "exp_result.to_excel(f'{scaler_name}_{model_name}_{embedded_name}_{score_name}.xlsx')\n",
        "\n",
        "\n",
        "# for i, (y_train, y_test) in enumerate(zip(Y_train[:].T, Y_test[:].T)):\n",
        "#   print(f'Training: {target_columns[i]}')\n",
        "#   reg = LazyRegressor(verbose=0, ignore_warnings=False, custom_metric=None)\n",
        "#   models,predictions = reg.fit(X_train, X_test, y_train, y_test)\n",
        "#   print(models)\n",
        "#   print()"
      ],
      "metadata": {
        "colab": {
          "base_uri": "https://localhost:8080/"
        },
        "id": "5RZFZnaZLkYM",
        "outputId": "1fb27c8e-6d2f-4855-ffb8-c46ef37a6210"
      },
      "execution_count": 34,
      "outputs": [
        {
          "output_type": "stream",
          "name": "stdout",
          "text": [
            "Training: Local Avg.\n",
            "Training: Global Avg.\n"
          ]
        }
      ]
    },
    {
      "cell_type": "code",
      "source": [
        "# results = {}\n",
        "# predictions = []\n",
        "\n",
        "# X_train = PCA_train\n",
        "# X_test = PCA_test\n",
        "# for i, (y_train, y_test) in enumerate(zip(Y_train[:].T, Y_test[:].T)):\n",
        "#     print(f'Training: {target_columns[i]}')\n",
        "#     regressor = HistGradientBoostingRegressor(random_state=42)\n",
        "#     # gbr = GradientBoostingRegressor(random_state=42)\n",
        "#     regressor.fit(X_train, y_train)\n",
        "#     # Predict\n",
        "#     y_train_pred = regressor.predict(X_train)\n",
        "#     y_test_pred = regressor.predict(X_test)\n",
        "#     # Save results\n",
        "#     predictions.append(y_test_pred)\n",
        "#     # Save xlsx\n",
        "#     MaxError = max_error                    (y_test, y_test_pred)\n",
        "#     MAE = mean_absolute_error               (y_test, y_test_pred)\n",
        "#     MSE = mean_squared_error                (y_test, y_test_pred)\n",
        "#     MedError = median_absolute_error        (y_test, y_test_pred)\n",
        "#     RMSE = mean_squared_error               (y_test, y_test_pred, squared=False)\n",
        "#     MAPE = mean_absolute_percentage_error   (y_test, y_test_pred)\n",
        "#     R2 = r2_score                           (y_test, y_test_pred)\n",
        "#     results.update({\n",
        "#     f'{target_columns[i]}':\n",
        "#         {\n",
        "#             'MaxError' : MaxError,\n",
        "#             'MAE' : MAE,\n",
        "#             'MSE' : MSE,\n",
        "#             'MedError' : MedError,\n",
        "#             'RMSE' : RMSE,\n",
        "#             'MAPE' : MAPE,\n",
        "#             'R2' : R2\n",
        "#         }\n",
        "#     })\n",
        "\n",
        "\n",
        "# exp_result = pd.DataFrame(results)\n",
        "# exp_result.to_excel(f'{scaler_name}_{model_name}_{embedded_name}_{score_name}.xlsx')"
      ],
      "metadata": {
        "id": "8ROIo6Kr4atK"
      },
      "execution_count": 35,
      "outputs": []
    }
  ]
}